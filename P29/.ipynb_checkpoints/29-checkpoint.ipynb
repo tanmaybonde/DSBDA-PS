{
 "cells": [
  {
   "cell_type": "code",
   "execution_count": 1,
   "id": "c795ab40",
   "metadata": {},
   "outputs": [],
   "source": [
    "import requests as req\n",
    "import pandas as pd\n",
    "from bs4 import BeautifulSoup"
   ]
  },
  {
   "cell_type": "code",
   "execution_count": 2,
   "id": "9ce1cd5d",
   "metadata": {},
   "outputs": [],
   "source": [
    "link = 'https://www.amazon.in/Echo-Dot-3rd-Gen/product-reviews/B07PFFMP9P/ref=cm_cr_dp_d_show_all_btm?ie=UTF8&reviewerType=all_reviews'"
   ]
  },
  {
   "cell_type": "code",
   "execution_count": 3,
   "id": "a4f285f9",
   "metadata": {},
   "outputs": [],
   "source": [
    "ses = req.session()"
   ]
  },
  {
   "cell_type": "code",
   "execution_count": 4,
   "id": "fb1e1577",
   "metadata": {},
   "outputs": [],
   "source": [
    "headers = {\n",
    "    \"authority\": \"www.amazon.in\",\n",
    "    \"method\": \"GET\",\n",
    "    \"path\": \"/Echo-Dot-3rd-Gen/product-reviews/B07PFFMP9P/ref=cm_cr_dp_d_show_all_btm?ie=UTF8&reviewerType=all_reviews\",\n",
    "    \"scheme\": \"https\",\n",
    "    \"accept\": \"text/html,application/xhtml+xml,application/xml;q=0.9,image/avif,image/webp,image/apng,*/*;q=0.8,application/signed-exchange;v=b3;q=0.9\",\n",
    "    \"accept-encoding\": \"gzip, deflate, br\",\n",
    "    \"accept-language\": \"en-US,en;q=0.9\",\n",
    "    \"cache-control\": \"max-age=0\",\n",
    "    \"cookie\": \"session-id=261-3801406-1822323; i18n-prefs=INR; ubid-acbin=258-8318855-0849241; lc-acbin=en_IN; session-id-time=2082787201l; session-token=99jI52hK4YmENOTZ14Zh+5WJoi3DbgJLc4PeHB877gTqZWTS3uG8TWbsnERNZwudOiAHkB378Ot3I5YqpUO+tg1pV6A0clwpQhbtcu6PiCDbCHIcpljSgqmgr5gWuAhKs3b0DLRdrflOV7YSpPCaO0iaBGS6A6iyLjHpWUMt8gyRHosxFKVCC98UHzzxow3mJG5Y/xjbxpOsc+Xwh/vlk0yvbXXQm9VyIwsTWEj9cK8=; csm-hit=tb:5THQ5KSACHAR1SV83GN3+s-B29398ZGAPB0JRS3P1WW|1685365346039&t:1685365346039&adb:adblk_no\",\n",
    "    \"device-memory\": \"8\",\n",
    "    \"downlink\": \"10\",\n",
    "    \"dpr\": \"1\",\n",
    "    \"ect\": \"4g\",\n",
    "    \"referer\": \"https://www.amazon.in/Echo-Dot-3rd-Gen/dp/B07PFFMP9P?th=1\",\n",
    "    \"rtt\": \"150\",\n",
    "    \"sec-ch-device-memory\": \"8\",\n",
    "    \"sec-ch-dpr\": \"1\",\n",
    "    \"sec-ch-ua\": '\"Not_A Brand\";v=\"99\", \"Google Chrome\";v=\"109\", \"Chromium\";v=\"109\"',\n",
    "    \"sec-ch-ua-mobile\": \"?0\",\n",
    "    \"sec-ch-ua-platform\": \"Windows\",\n",
    "    \"sec-ch-ua-platform-version\": \"0.3.0\",\n",
    "    \"sec-ch-viewport-width\": \"815\",\n",
    "    \"sec-fetch-dest\": \"document\",\n",
    "    \"sec-fetch-mode\": \"navigate\",\n",
    "    \"sec-fetch-site\": \"same-origin\",\n",
    "    \"sec-fetch-user\": \"?1\",\n",
    "    \"service-worker-navigation-preload\": \"true\",\n",
    "    \"upgrade-insecure-requests\": \"1\",\n",
    "    \"user-agent\": \"Mozilla/5.0 (Windows NT 10.0; Win64; x64) AppleWebKit/537.36 (KHTML, like Gecko) Chrome/109.0.0.0 Safari/537.36\",\n",
    "    \"viewport-width\": \"815\"\n",
    "}"
   ]
  },
  {
   "cell_type": "code",
   "execution_count": 5,
   "id": "95f24b48",
   "metadata": {},
   "outputs": [],
   "source": [
    "res = req.get(link, headers = headers)"
   ]
  },
  {
   "cell_type": "code",
   "execution_count": 6,
   "id": "e5305c18",
   "metadata": {},
   "outputs": [],
   "source": [
    "soup = BeautifulSoup(res.text)"
   ]
  },
  {
   "cell_type": "code",
   "execution_count": 7,
   "id": "8e73ee6f",
   "metadata": {},
   "outputs": [],
   "source": [
    "reviewList = soup.find(\"div\", {\"id\": \"cm_cr-review_list\"})"
   ]
  },
  {
   "cell_type": "code",
   "execution_count": 8,
   "id": "9151848e",
   "metadata": {},
   "outputs": [],
   "source": [
    "reviews = reviewList.findAll(\"div\", {\"class\": \"a-section review aok-relative\"})"
   ]
  },
  {
   "cell_type": "code",
   "execution_count": 9,
   "id": "d673a6ea",
   "metadata": {},
   "outputs": [],
   "source": [
    "data = []\n",
    "for review in reviews:\n",
    "    name = review.find(\"span\" , {\"class\": \"a-profile-name\"}).text\n",
    "    title = review.find(\"a\" , {\"class\": \"a-size-base a-link-normal review-title a-color-base review-title-content a-text-bold\"}).find(\"span\").text\n",
    "    body = review.find(\"span\" , {\"class\" : \"a-size-base review-text review-text-content\"}).find(\"span\").text\n",
    "    rating = review.find(\"i\" , {\"class\" : \"review-rating\"}).find(\"span\").text[0:3]\n",
    "    data.append([name, title, rating, body])"
   ]
  },
  {
   "cell_type": "code",
   "execution_count": 10,
   "id": "22950e94",
   "metadata": {},
   "outputs": [],
   "source": [
    "df = pd.DataFrame(data=data, columns=['Name', 'Title', 'Rating', 'Body'])"
   ]
  },
  {
   "cell_type": "code",
   "execution_count": 11,
   "id": "a911fe5c",
   "metadata": {},
   "outputs": [
    {
     "data": {
      "text/html": [
       "<div>\n",
       "<style scoped>\n",
       "    .dataframe tbody tr th:only-of-type {\n",
       "        vertical-align: middle;\n",
       "    }\n",
       "\n",
       "    .dataframe tbody tr th {\n",
       "        vertical-align: top;\n",
       "    }\n",
       "\n",
       "    .dataframe thead th {\n",
       "        text-align: right;\n",
       "    }\n",
       "</style>\n",
       "<table border=\"1\" class=\"dataframe\">\n",
       "  <thead>\n",
       "    <tr style=\"text-align: right;\">\n",
       "      <th></th>\n",
       "      <th>Name</th>\n",
       "      <th>Title</th>\n",
       "      <th>Rating</th>\n",
       "      <th>Body</th>\n",
       "    </tr>\n",
       "  </thead>\n",
       "  <tbody>\n",
       "    <tr>\n",
       "      <th>0</th>\n",
       "      <td>Rochak jha</td>\n",
       "      <td>Fantastic Addition to My Home - Amazon Alexa 3...</td>\n",
       "      <td>5.0</td>\n",
       "      <td>I recently purchased the Amazon Alexa 3rd Gen ...</td>\n",
       "    </tr>\n",
       "    <tr>\n",
       "      <th>1</th>\n",
       "      <td>shamshuddin</td>\n",
       "      <td>Alexa awesome</td>\n",
       "      <td>4.0</td>\n",
       "      <td>Nice tool to enjoy and even for elders...</td>\n",
       "    </tr>\n",
       "    <tr>\n",
       "      <th>2</th>\n",
       "      <td>Vivekk</td>\n",
       "      <td>Good Product to fall in Love</td>\n",
       "      <td>4.0</td>\n",
       "      <td>Keep exploring nice device.... Only thing that...</td>\n",
       "    </tr>\n",
       "    <tr>\n",
       "      <th>3</th>\n",
       "      <td>Rj</td>\n",
       "      <td>I is good</td>\n",
       "      <td>4.0</td>\n",
       "      <td>I should play music from YouTube also</td>\n",
       "    </tr>\n",
       "    <tr>\n",
       "      <th>4</th>\n",
       "      <td>Guruprasad</td>\n",
       "      <td>Product is good</td>\n",
       "      <td>4.0</td>\n",
       "      <td>Overall good product but need to add local lan...</td>\n",
       "    </tr>\n",
       "    <tr>\n",
       "      <th>5</th>\n",
       "      <td>Nidhi Tripathi</td>\n",
       "      <td>Good budget knowledgeable product.</td>\n",
       "      <td>4.0</td>\n",
       "      <td>We can utilise it in many ways like children s...</td>\n",
       "    </tr>\n",
       "    <tr>\n",
       "      <th>6</th>\n",
       "      <td>Apurba Das</td>\n",
       "      <td>Good as a replacement</td>\n",
       "      <td>4.0</td>\n",
       "      <td>You can buy it as a replacement for high cost ...</td>\n",
       "    </tr>\n",
       "    <tr>\n",
       "      <th>7</th>\n",
       "      <td>MEKIN SUTARIYA</td>\n",
       "      <td>About alexa</td>\n",
       "      <td>5.0</td>\n",
       "      <td>It is good gadget for home it work betterAnd i...</td>\n",
       "    </tr>\n",
       "    <tr>\n",
       "      <th>8</th>\n",
       "      <td>Naila khan</td>\n",
       "      <td>Best product I purchased during sale</td>\n",
       "      <td>4.0</td>\n",
       "      <td>This is the best purchase I had in amazon shop...</td>\n",
       "    </tr>\n",
       "    <tr>\n",
       "      <th>9</th>\n",
       "      <td>Sunny Thakur</td>\n",
       "      <td>Nice product</td>\n",
       "      <td>4.0</td>\n",
       "      <td>Nice product but i faced a little issue after ...</td>\n",
       "    </tr>\n",
       "  </tbody>\n",
       "</table>\n",
       "</div>"
      ],
      "text/plain": [
       "             Name                                              Title Rating  \\\n",
       "0      Rochak jha  Fantastic Addition to My Home - Amazon Alexa 3...    5.0   \n",
       "1     shamshuddin                                      Alexa awesome    4.0   \n",
       "2          Vivekk                       Good Product to fall in Love    4.0   \n",
       "3              Rj                                          I is good    4.0   \n",
       "4      Guruprasad                                    Product is good    4.0   \n",
       "5  Nidhi Tripathi                 Good budget knowledgeable product.    4.0   \n",
       "6      Apurba Das                              Good as a replacement    4.0   \n",
       "7  MEKIN SUTARIYA                                        About alexa    5.0   \n",
       "8      Naila khan               Best product I purchased during sale    4.0   \n",
       "9    Sunny Thakur                                       Nice product    4.0   \n",
       "\n",
       "                                                Body  \n",
       "0  I recently purchased the Amazon Alexa 3rd Gen ...  \n",
       "1          Nice tool to enjoy and even for elders...  \n",
       "2  Keep exploring nice device.... Only thing that...  \n",
       "3              I should play music from YouTube also  \n",
       "4  Overall good product but need to add local lan...  \n",
       "5  We can utilise it in many ways like children s...  \n",
       "6  You can buy it as a replacement for high cost ...  \n",
       "7  It is good gadget for home it work betterAnd i...  \n",
       "8  This is the best purchase I had in amazon shop...  \n",
       "9  Nice product but i faced a little issue after ...  "
      ]
     },
     "execution_count": 11,
     "metadata": {},
     "output_type": "execute_result"
    }
   ],
   "source": [
    "df"
   ]
  },
  {
   "cell_type": "code",
   "execution_count": 12,
   "id": "907d5020",
   "metadata": {},
   "outputs": [],
   "source": [
    "df.to_csv(\"amazon_echo_dot.csv\")"
   ]
  }
 ],
 "metadata": {
  "kernelspec": {
   "display_name": "Python 3 (ipykernel)",
   "language": "python",
   "name": "python3"
  },
  "language_info": {
   "codemirror_mode": {
    "name": "ipython",
    "version": 3
   },
   "file_extension": ".py",
   "mimetype": "text/x-python",
   "name": "python",
   "nbconvert_exporter": "python",
   "pygments_lexer": "ipython3",
   "version": "3.9.4"
  }
 },
 "nbformat": 4,
 "nbformat_minor": 5
}
